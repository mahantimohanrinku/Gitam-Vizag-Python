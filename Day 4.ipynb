{
 "cells": [
  {
   "cell_type": "markdown",
   "metadata": {},
   "source": [
    "### String Functions\n",
    "- upper() -- will convert the input string into Upper Case\n",
    "- lower() -- will convert the input string into Lower Case"
   ]
  },
  {
   "cell_type": "code",
   "execution_count": 1,
   "metadata": {},
   "outputs": [
    {
     "name": "stdout",
     "output_type": "stream",
     "text": [
      "PYTHON\n",
      "python\n"
     ]
    }
   ],
   "source": [
    "s1 = 'Python'\n",
    "print(s1.upper())\n",
    "print(s1.lower())"
   ]
  },
  {
   "cell_type": "markdown",
   "metadata": {},
   "source": [
    "### String Boolean Function\n",
    "- True or False\n",
    "- islower() -- True if the string have all characters lower case\n",
    "- isupper() -- True if the string have all characters upper case\n",
    "- istitle() -- True if the string in title case\n",
    "- isnumeric() -- True if the string numeric\n",
    "- isalpha() -- True if the string only alphabets\n",
    "- isspace() -- True if the string is empty"
   ]
  },
  {
   "cell_type": "code",
   "execution_count": 2,
   "metadata": {},
   "outputs": [
    {
     "name": "stdout",
     "output_type": "stream",
     "text": [
      "True\n",
      "False\n"
     ]
    }
   ],
   "source": [
    "s1 = 'python'\n",
    "print(s1.islower())\n",
    "print(s1.isupper())"
   ]
  },
  {
   "cell_type": "code",
   "execution_count": 3,
   "metadata": {},
   "outputs": [
    {
     "name": "stdout",
     "output_type": "stream",
     "text": [
      "True\n"
     ]
    }
   ],
   "source": [
    "s1 = 'Python Programming'\n",
    "print(s1.istitle())"
   ]
  },
  {
   "cell_type": "code",
   "execution_count": 4,
   "metadata": {},
   "outputs": [
    {
     "name": "stdout",
     "output_type": "stream",
     "text": [
      "True\n",
      "False\n"
     ]
    }
   ],
   "source": [
    "s1 = '1234567'\n",
    "s2 = 'py123'\n",
    "print(s1.isnumeric())\n",
    "print(s2.isnumeric())"
   ]
  },
  {
   "cell_type": "code",
   "execution_count": 6,
   "metadata": {},
   "outputs": [
    {
     "name": "stdout",
     "output_type": "stream",
     "text": [
      "False\n",
      "True\n",
      "False\n"
     ]
    }
   ],
   "source": [
    "s1 = '123344'\n",
    "s2 = 'python'\n",
    "s3 = 'py123'\n",
    "print(s1.isalpha())\n",
    "print(s2.isalpha())\n",
    "print(s3.isalpha())"
   ]
  },
  {
   "cell_type": "code",
   "execution_count": 9,
   "metadata": {},
   "outputs": [
    {
     "name": "stdout",
     "output_type": "stream",
     "text": [
      "True\n",
      "False\n"
     ]
    }
   ],
   "source": [
    "s1 = ' '\n",
    "s2 = '1 3 4 '\n",
    "print(s1.isspace())\n",
    "print(s2.isspace())"
   ]
  },
  {
   "cell_type": "markdown",
   "metadata": {},
   "source": [
    "### String Methods\n",
    "- split() : Returns the list of strings seperated by whitespace\n",
    "- replace() : return the string replaces by  word/character\n",
    "- join() : Concatination of the two strings"
   ]
  },
  {
   "cell_type": "code",
   "execution_count": 10,
   "metadata": {},
   "outputs": [
    {
     "name": "stdout",
     "output_type": "stream",
     "text": [
      "['Python', 'Programming', 'Learn', 'Made', 'Easy']\n"
     ]
    }
   ],
   "source": [
    "s1 =  \"Python Programming Learn Made Easy\"\n",
    "li= s1.split() # Default is white space\n",
    "print(li)"
   ]
  },
  {
   "cell_type": "code",
   "execution_count": 14,
   "metadata": {},
   "outputs": [
    {
     "name": "stdout",
     "output_type": "stream",
     "text": [
      "['Pyhton Progr', 'mming Le', 'rn M', 'de E', 'sy']\n"
     ]
    }
   ],
   "source": [
    "s1 = \"Pyhton Programming Learn Made Easy\"\n",
    "li = s1.split('a')\n",
    "print(li)"
   ]
  },
  {
   "cell_type": "code",
   "execution_count": 23,
   "metadata": {},
   "outputs": [
    {
     "name": "stdout",
     "output_type": "stream",
     "text": [
      "Python-Programming-Learn-Made-Easy\n"
     ]
    }
   ],
   "source": [
    "s1 = \"Python Programming Learn Made Easy\"\n",
    "print(s1.replace(\" \",'-'))"
   ]
  },
  {
   "cell_type": "code",
   "execution_count": 18,
   "metadata": {},
   "outputs": [
    {
     "name": "stdout",
     "output_type": "stream",
     "text": [
      "Python Progr@mming Le@rn M@de E@sy\n"
     ]
    }
   ],
   "source": [
    "s1 = 'Python Programming Learn Made Easy'\n",
    "print(s1.replace('a','@'))"
   ]
  },
  {
   "cell_type": "code",
   "execution_count": 24,
   "metadata": {},
   "outputs": [
    {
     "name": "stdout",
     "output_type": "stream",
     "text": [
      "P-y-t-h-o-n\n",
      "P y t h o n\n"
     ]
    }
   ],
   "source": [
    "s1 = 'Python'\n",
    "print(\"-\".join(s1))\n",
    "print(' '.join(s1))"
   ]
  },
  {
   "cell_type": "markdown",
   "metadata": {},
   "source": [
    "## String Formatting\n",
    "- classic Version\n",
    "- Current Version Python\n"
   ]
  },
  {
   "cell_type": "code",
   "execution_count": 25,
   "metadata": {},
   "outputs": [
    {
     "name": "stdout",
     "output_type": "stream",
     "text": [
      "Python Programming\n"
     ]
    }
   ],
   "source": [
    "# Classic Version (c or c++)\n",
    "li = [\"Python\",\"Programming\"]\n",
    "print('%s %s'%(li[0],li[1]))"
   ]
  },
  {
   "cell_type": "code",
   "execution_count": 27,
   "metadata": {},
   "outputs": [
    {
     "name": "stdout",
     "output_type": "stream",
     "text": [
      "1 2 3 4\n"
     ]
    }
   ],
   "source": [
    "li = [1,2,3,4]\n",
    "print('%d %d %d %d' % (li[0],li[1],li[2],li[3]))"
   ]
  },
  {
   "cell_type": "code",
   "execution_count": 28,
   "metadata": {},
   "outputs": [
    {
     "name": "stdout",
     "output_type": "stream",
     "text": [
      "List Item 0 : python \n",
      "List Item 1 : Programming\n"
     ]
    }
   ],
   "source": [
    "# .format\n",
    "li = [\"python\",'Programming']\n",
    "print(\"List Item 0 : {0} \\nList Item 1 : {1}\" .format(li[0],li[1]))"
   ]
  },
  {
   "cell_type": "code",
   "execution_count": 33,
   "metadata": {},
   "outputs": [
    {
     "name": "stdout",
     "output_type": "stream",
     "text": [
      "1 2 3 4\n"
     ]
    }
   ],
   "source": [
    "li = [1,2,3,4]\n",
    "print('{0} {1} {2} {3}'.format(li[0],li[1],li[2],li[3]))"
   ]
  },
  {
   "cell_type": "markdown",
   "metadata": {},
   "source": [
    "### Data Structures\n",
    "- List\n",
    "- Tuples\n",
    "- Dictionaries"
   ]
  },
  {
   "cell_type": "markdown",
   "metadata": {},
   "source": [
    " ### Dictionaries\n",
    " - It works on Concept of unique Data\n",
    " - Key,value is the unique identifier a value\n",
    " - Each key is Seperated from Value colon(:)\n",
    " - Each Key and Value is seperrated by coma(,)\n",
    " - Dictomaries are enclosed with only curly Braces({})"
   ]
  },
  {
   "cell_type": "code",
   "execution_count": 35,
   "metadata": {},
   "outputs": [
    {
     "name": "stdout",
     "output_type": "stream",
     "text": [
      "{'Name': 'Gitam', 'EmailId': 'gitamvizag@gmail.com', 'Address': 'Vizag'}\n"
     ]
    }
   ],
   "source": [
    "d1 = {\"Name\":\"Gitam\",\"EmailId\":\"gitamvizag@gmail.com\",\"Address\":\"Vizag\"}\n",
    "print(d1)"
   ]
  },
  {
   "cell_type": "code",
   "execution_count": 37,
   "metadata": {},
   "outputs": [
    {
     "data": {
      "text/plain": [
       "'gitamvizag@gmail.com'"
      ]
     },
     "execution_count": 37,
     "metadata": {},
     "output_type": "execute_result"
    }
   ],
   "source": [
    "d1[\"EmailId\"] # Access the Specific Key Value"
   ]
  },
  {
   "cell_type": "code",
   "execution_count": 42,
   "metadata": {},
   "outputs": [],
   "source": [
    "d1[\"EmailId\"] = \"Gitam@hotmail.com\" # Update the value using key"
   ]
  },
  {
   "cell_type": "code",
   "execution_count": 39,
   "metadata": {},
   "outputs": [
    {
     "data": {
      "text/plain": [
       "'Gitam@hotmail.com'"
      ]
     },
     "execution_count": 39,
     "metadata": {},
     "output_type": "execute_result"
    }
   ],
   "source": [
    "d1[\"EmailId\"]"
   ]
  },
  {
   "cell_type": "code",
   "execution_count": 45,
   "metadata": {},
   "outputs": [
    {
     "data": {
      "text/plain": [
       "dict_keys(['Name', 'EmailId', 'Address'])"
      ]
     },
     "execution_count": 45,
     "metadata": {},
     "output_type": "execute_result"
    }
   ],
   "source": [
    "d1.keys() # All the keys of Dict Objects"
   ]
  },
  {
   "cell_type": "code",
   "execution_count": 48,
   "metadata": {},
   "outputs": [
    {
     "name": "stdout",
     "output_type": "stream",
     "text": [
      "dict_keys(['Name', 'EmailId', 'Address'])\n"
     ]
    }
   ],
   "source": [
    "li = d1.keys()\n",
    "print(li)"
   ]
  },
  {
   "cell_type": "code",
   "execution_count": 44,
   "metadata": {},
   "outputs": [
    {
     "data": {
      "text/plain": [
       "dict_values(['Gitam', 'Gitam@hotmail.com', 'Vizag'])"
      ]
     },
     "execution_count": 44,
     "metadata": {},
     "output_type": "execute_result"
    }
   ],
   "source": [
    "d1.values() # All the valules of Dict Objects"
   ]
  },
  {
   "cell_type": "code",
   "execution_count": null,
   "metadata": {},
   "outputs": [],
   "source": [
    "del d1['EmailId'] # Only deletes one key and value"
   ]
  },
  {
   "cell_type": "code",
   "execution_count": 49,
   "metadata": {},
   "outputs": [
    {
     "data": {
      "text/plain": [
       "{'Name': 'Gitam', 'EmailId': 'Gitam@hotmail.com', 'Address': 'Vizag'}"
      ]
     },
     "execution_count": 49,
     "metadata": {},
     "output_type": "execute_result"
    }
   ],
   "source": [
    "d1 # delete entire the Dic object"
   ]
  },
  {
   "cell_type": "code",
   "execution_count": 50,
   "metadata": {},
   "outputs": [],
   "source": [
    "del d1"
   ]
  },
  {
   "cell_type": "code",
   "execution_count": 51,
   "metadata": {},
   "outputs": [
    {
     "ename": "NameError",
     "evalue": "name 'd1' is not defined",
     "output_type": "error",
     "traceback": [
      "\u001b[1;31m---------------------------------------------------------------------------\u001b[0m",
      "\u001b[1;31mNameError\u001b[0m                                 Traceback (most recent call last)",
      "\u001b[1;32m<ipython-input-51-2d3a24957153>\u001b[0m in \u001b[0;36m<module>\u001b[1;34m\u001b[0m\n\u001b[1;32m----> 1\u001b[1;33m \u001b[0md1\u001b[0m\u001b[1;33m\u001b[0m\u001b[1;33m\u001b[0m\u001b[0m\n\u001b[0m",
      "\u001b[1;31mNameError\u001b[0m: name 'd1' is not defined"
     ]
    }
   ],
   "source": [
    "d1"
   ]
  },
  {
   "cell_type": "markdown",
   "metadata": {},
   "source": [
    "### Contact Appilication\n",
    "- Add contact details\n",
    "- Search the contact details\n",
    "- List the Contacts Merge/Import\n",
    "   - Name 1 = Value\n",
    "   - Name 2 = Value\n",
    "- Modify Update the Contact detail\n",
    "- Delete the Contact detail"
   ]
  },
  {
   "cell_type": "code",
   "execution_count": 54,
   "metadata": {},
   "outputs": [
    {
     "name": "stdout",
     "output_type": "stream",
     "text": [
      "Contact Details are added successfully\n",
      "Contact Details are added successfully\n",
      "Name is already exists\n"
     ]
    }
   ],
   "source": [
    "contacts = {} # Empty Dict Objects\n",
    "# Lets create a function to Add contact details\n",
    "def addContact(name,phone):\n",
    "    if name not in contacts: # condition to check is exists or not\n",
    "        contacts[name] = phone\n",
    "        print('Contact Details are added successfully')\n",
    "    else:\n",
    "        print('Name is already exists')\n",
    "    \n",
    "    return\n",
    "addContact('Ashish','1234567889')\n",
    "addContact('shiah','98765433')\n",
    "addContact('Ashish','1234567889')"
   ]
  },
  {
   "cell_type": "code",
   "execution_count": 55,
   "metadata": {},
   "outputs": [
    {
     "data": {
      "text/plain": [
       "{'Ashish': '1234567889', 'shiah': '98765433'}"
      ]
     },
     "execution_count": 55,
     "metadata": {},
     "output_type": "execute_result"
    }
   ],
   "source": [
    "contacts"
   ]
  },
  {
   "cell_type": "code",
   "execution_count": 86,
   "metadata": {},
   "outputs": [
    {
     "name": "stdout",
     "output_type": "stream",
     "text": [
      "Ashish  :  1234567889\n",
      "Gitam  :  9866082890\n",
      "shiah  :  98765433\n"
     ]
    }
   ],
   "source": [
    "def searchContact(name):\n",
    "    if name in contacts:\n",
    "        print(name,\" : \",contacts[name])\n",
    "    else:\n",
    "        print('{0} does not present'.format(name))\n",
    "        #print(%s does not present'% name)\n",
    "        \n",
    "    return \n",
    "searchContact('Ashish')\n",
    "searchContact('Gitam')\n",
    "searchContact('shiah')"
   ]
  },
  {
   "cell_type": "code",
   "execution_count": 73,
   "metadata": {},
   "outputs": [
    {
     "name": "stdout",
     "output_type": "stream",
     "text": [
      "3 Contacts ae added\n"
     ]
    }
   ],
   "source": [
    "# Input new contact details\n",
    "# Merge the previous details with new details \n",
    "def importContacts(newContacts):\n",
    "    contacts.update(newContacts)\n",
    "    print(len(newContacts.keys()),'Contacts ae added')\n",
    "        \n",
    "    return\n",
    "newContacts = {'Gitam':9866082890,'Akhil':1234545,'Python':3345455655}\n",
    "importContacts(newContacts)"
   ]
  },
  {
   "cell_type": "code",
   "execution_count": 74,
   "metadata": {},
   "outputs": [
    {
     "data": {
      "text/plain": [
       "{'Ashish': '1234567889',\n",
       " 'shiah': '98765433',\n",
       " 'Gitam': 9866082890,\n",
       " 'Akhil': 1234545,\n",
       " 'Python': 3345455655}"
      ]
     },
     "execution_count": 74,
     "metadata": {},
     "output_type": "execute_result"
    }
   ],
   "source": [
    "contacts"
   ]
  },
  {
   "cell_type": "code",
   "execution_count": 91,
   "metadata": {},
   "outputs": [
    {
     "name": "stdout",
     "output_type": "stream",
     "text": [
      "Ashish Updated Succesfully\n",
      "naveed Not Exited\n"
     ]
    }
   ],
   "source": [
    "def modifyContacts(name,phone):\n",
    "    if name in contacts:\n",
    "        contacts[name]= phone\n",
    "        print(name,'Updated Succesfully')\n",
    "    else:\n",
    "        print(name,'Not Exited')\n",
    "    return\n",
    "modifyContacts('Ashish',123456788878493899)\n",
    "modifyContacts('naveed',7772882828928)\n"
   ]
  },
  {
   "cell_type": "code",
   "execution_count": 93,
   "metadata": {},
   "outputs": [
    {
     "name": "stdout",
     "output_type": "stream",
     "text": [
      "Ashish Not present\n",
      "sahid Not present\n"
     ]
    }
   ],
   "source": [
    "def deleteContact(name):\n",
    "    if name in contacts:\n",
    "        del contacts[name]\n",
    "        print(name,'Deleted Succesfully')\n",
    "    else:\n",
    "        print(name,'Not present')\n",
    "    \n",
    "    return\n",
    "deleteContact('Ashish')\n",
    "deleteContact('sahid')"
   ]
  },
  {
   "cell_type": "code",
   "execution_count": 95,
   "metadata": {},
   "outputs": [
    {
     "data": {
      "text/plain": [
       "{'shiah': '98765433',\n",
       " 'Gitam': 9866082890,\n",
       " 'Akhil': 1234545,\n",
       " 'Python': 3345455655}"
      ]
     },
     "execution_count": 95,
     "metadata": {},
     "output_type": "execute_result"
    }
   ],
   "source": [
    "contacts"
   ]
  },
  {
   "cell_type": "markdown",
   "metadata": {},
   "source": [
    "## Tuples\n",
    "- Tuples enclosed with Paranthesis()\n",
    "\n",
    "## Differences between Tuples and List\n",
    "       - List are mutable -- can be changed / modify\n",
    "           - Read and Write the Data\n",
    "       - Tuples are immutable -- can't be changed / modified\n",
    "           - Read Data Only"
   ]
  },
  {
   "cell_type": "code",
   "execution_count": 101,
   "metadata": {},
   "outputs": [
    {
     "name": "stdout",
     "output_type": "stream",
     "text": [
      "(1, 2, 3, 4, 5)\n"
     ]
    }
   ],
   "source": [
    "t1 = (1,2,3,4,5)\n",
    "print(t1)"
   ]
  },
  {
   "cell_type": "code",
   "execution_count": 102,
   "metadata": {},
   "outputs": [
    {
     "name": "stdout",
     "output_type": "stream",
     "text": [
      "()\n"
     ]
    }
   ],
   "source": [
    "print(t1[-1:2])"
   ]
  },
  {
   "cell_type": "markdown",
   "metadata": {},
   "source": [
    "## Standard Expressions\n",
    "- Regular Expressions\n",
    "  - To validate the Indian Mobile\n",
    "  - To validate the EmailIdd\n",
    "  - To validate the Username\n",
    "  - To validate the Password\n",
    "- Understanding the  Regular Expressions\n",
    "   - [0-9]  -- Any digit Matching\n",
    "   - [a-z]  -- Any lower case Matching\n",
    "   - [A-Z]  -- Any upper case Matching\n",
    "   - cap Symbol is used to represent the start of Regular Expression\n",
    "   - Dollor Symbol is used to represnt the end od Regular Expression"
   ]
  },
  {
   "cell_type": "code",
   "execution_count": 103,
   "metadata": {},
   "outputs": [
    {
     "name": "stdout",
     "output_type": "stream",
     "text": [
      "True\n",
      "False\n"
     ]
    }
   ],
   "source": [
    "# Function to test the two digit number as input\n",
    "# True -- Input the digit nu\\mber\n",
    "# False -- Input not a two digit number\n",
    "import re\n",
    "def twoDigitMatching(n):\n",
    "    pattern = '^[0-9]{2}$'\n",
    "    n = str(n) # str() converts input into str format\n",
    "    if re.match(pattern,n):\n",
    "        return True\n",
    "    return False\n",
    "print(twoDigitMatching(12))  # True\n",
    "print(twoDigitMatching(123)) # False\n"
   ]
  },
  {
   "cell_type": "code",
   "execution_count": 105,
   "metadata": {},
   "outputs": [
    {
     "name": "stdout",
     "output_type": "stream",
     "text": [
      "True\n",
      "False\n",
      "False\n"
     ]
    }
   ],
   "source": [
    "# Regular Expression for Username\n",
    "# Username --- Should contains Lower and upper case characters\n",
    "# Length -- Min 5 Max 12\n",
    "def validateUsername(s):\n",
    "    pattern = '^[a-zA-Z]{4,11}$'\n",
    "    if re.match(pattern,s):\n",
    "        \n",
    "        return True\n",
    "    return False\n",
    "print(validateUsername('mahanti')) # True\n",
    "print(validateUsername('aashishmahanti')) # False\n",
    "print(validateUsername('gitam university progrraming')) # false"
   ]
  },
  {
   "cell_type": "markdown",
   "metadata": {},
   "source": [
    "### Regular Expression\n",
    "- Regular Expression for RollNumber\n",
    "- Example : 1521A0501 # Valid\n",
    "- Example : 1621A0574 # Not Valid\n",
    "- Regular Expression for Password\n",
    "- Parameters - Len Min 6 Max 10\n",
    "- Accept Lower case, upper case ,Digits and Spl (@,!,#)\n",
    "- Example : Pass123@21 # Valid\n",
    "- Example : Pass12*21 # Not Valid"
   ]
  },
  {
   "cell_type": "markdown",
   "metadata": {},
   "source": [
    "## Regular Expressions For Indian mobile\n",
    " - 10 Digit Number\n",
    "  - First Number si start from [6-9]\n",
    "  - Rest of 9 numbers is between [0-9]\n",
    "      - Example : 9851741520 # True\n",
    "      - Example : 5463873839 # False\n",
    "  - 11 Digit Number\n",
    "    - First Number can be 0\n",
    "    - Second Number can be [6-9]\n",
    "    - Rest of 9 numbers is between [0-9] \n",
    "       - Example : 09878373873 # True\n",
    "       - Example : 88389383838 # False\n",
    "  - 13 Digit Number\n",
    "    - First Number can be +\n",
    "    - Second Number  be 9\n",
    "    - Third Number be 1\n",
    "    - Fourth Number be [6-9]\n",
    "    - Fifth Number be [0-9]"
   ]
  },
  {
   "cell_type": "code",
   "execution_count": null,
   "metadata": {},
   "outputs": [],
   "source": [
    "# Rule Number 1 :  ^[6-9][0-9]{9}$\n",
    "# Rule NUmber 2 :  ^0[6-9][0-9]{9}$\n",
    "# Rule Number 3 :  ^[+][9][1][6-9][0-9]{9}$"
   ]
  },
  {
   "cell_type": "code",
   "execution_count": 121,
   "metadata": {},
   "outputs": [
    {
     "data": {
      "text/plain": [
       "True"
      ]
     },
     "execution_count": 121,
     "metadata": {},
     "output_type": "execute_result"
    }
   ],
   "source": [
    "import re\n",
    "def validateIndianNumber(n):\n",
    "    pattern = '^[6-9][0-9]{9}$ |^0[6-9][0-9]{9}$|^[+][9][1][6-9][0-9]{9}$'\n",
    "    n = str(n)\n",
    "    if re.match(pattern,n):\n",
    "        return True\n",
    "    return False\n",
    "validateIndianNumber('+919866082890') # True\n",
    "    "
   ]
  },
  {
   "cell_type": "markdown",
   "metadata": {},
   "source": [
    "### Validate the EmailId\n",
    "- Example : Username@DomainName.extension\n",
    "- Example : dsps@gmail.com\n",
    "- Username:\n",
    "    - Len of string will be [6-15]\n",
    "    - No spl characters except underscore(_) and dot(.)\n",
    "    - Username should not begins with Underscore(_)\n",
    "    - All characters set Digits, Lower case and Upper case\n",
    "       - Exxample : Anil_1889\n",
    "- DomianinName: \n",
    "   - Len of string will be [3-18]\n",
    "   - No spls charactersd\n",
    "   - Characters set will be Digits Lower Case and upper case\n",
    "       - Example : gamil,hotmail,ymail,rediff and  etc...\n",
    "- Extensions:\n",
    "    - Len of the string will be [2-4]\n",
    "    - No spl characters allowed\n",
    "    - Characters set will Lower case characters \n",
    "         -  Example : com in au uk"
   ]
  },
  {
   "cell_type": "code",
   "execution_count": null,
   "metadata": {},
   "outputs": [],
   "source": [
    "# User name RE :[0-9a-zA-Z][0-9a-zA-Z_.]{5,14}\n",
    "# Domain Name RE : [a-z0-9]{3,18}\n",
    "# Extension RE :  [a-z]{2,4}\n",
    "# EmailId  RE : ^[0-9a-zA-Z][0-9a-zA-Z_.]{5,14} [a-z0-9]{3,18}[a-z]{2,4}$"
   ]
  },
  {
   "cell_type": "code",
   "execution_count": 125,
   "metadata": {},
   "outputs": [
    {
     "data": {
      "text/plain": [
       "True"
      ]
     },
     "execution_count": 125,
     "metadata": {},
     "output_type": "execute_result"
    }
   ],
   "source": [
    "def validateEmail(email):\n",
    "    pattern = '^[0-9a-zA-Z][0-9a-zA-Z_.]{5,14}[@][a-z0-9]{3,18}[.][a-z]{2,4}$'\n",
    "    if re.match(pattern,email):\n",
    "        return True\n",
    "    return False\n",
    "validateEmail('mahanti@gmail.com')"
   ]
  },
  {
   "cell_type": "markdown",
   "metadata": {},
   "source": [
    "### Python Graphics\n",
    "- Lib - turtle "
   ]
  },
  {
   "cell_type": "markdown",
   "metadata": {},
   "source": [
    "### Package, Module and Sub Package\n",
    "### Package \n",
    "  - A collection of Modules(Single Python file .py)\n",
    "### Module\n",
    "  - A single Python file contains group of function\n",
    "  - Packages ->  Sub packages - > Modules  - > Functions -> Statements\n",
    "  - import keyword is used to import the external lib packages into the python program"
   ]
  },
  {
   "cell_type": "code",
   "execution_count": 126,
   "metadata": {},
   "outputs": [
    {
     "data": {
      "text/plain": [
       "123"
      ]
     },
     "execution_count": 126,
     "metadata": {},
     "output_type": "execute_result"
    }
   ],
   "source": [
    "import math   # Imports all the funcion into Python program\n",
    "math.floor(123.456)"
   ]
  },
  {
   "cell_type": "code",
   "execution_count": 128,
   "metadata": {},
   "outputs": [
    {
     "data": {
      "text/plain": [
       "124"
      ]
     },
     "execution_count": 128,
     "metadata": {},
     "output_type": "execute_result"
    }
   ],
   "source": [
    "math.ceil(123.456)"
   ]
  },
  {
   "cell_type": "code",
   "execution_count": 131,
   "metadata": {},
   "outputs": [
    {
     "data": {
      "text/plain": [
       "3628800"
      ]
     },
     "execution_count": 131,
     "metadata": {},
     "output_type": "execute_result"
    }
   ],
   "source": [
    "from math import factorial as fact# imports only fucntion from the entire lib\n",
    "# Import only specific funciton\n",
    "# as fact alias name\n",
    "fact(10)                                 "
   ]
  },
  {
   "cell_type": "code",
   "execution_count": 130,
   "metadata": {},
   "outputs": [
    {
     "data": {
      "text/plain": [
       "5"
      ]
     },
     "execution_count": 130,
     "metadata": {},
     "output_type": "execute_result"
    }
   ],
   "source": [
    "from math import gcd as gcd\n",
    "gcd(10,15)"
   ]
  },
  {
   "cell_type": "code",
   "execution_count": 138,
   "metadata": {},
   "outputs": [
    {
     "name": "stdout",
     "output_type": "stream",
     "text": [
      "42 95 59 28 40 52 94 20 67 22 "
     ]
    }
   ],
   "source": [
    "# Import random package \n",
    "import random\n",
    "# Function to generate the N Numbers in given range\n",
    "def generateRandom(n,lb,ub):\n",
    "    for i in range(0,n):\n",
    "        print(random.randint(lb,ub),end=' ')\n",
    "    return\n",
    "generateRandom(10,0,100)"
   ]
  },
  {
   "cell_type": "code",
   "execution_count": null,
   "metadata": {},
   "outputs": [],
   "source": [
    "# Create a single game\n",
    "# Try to generate 20 numbers\n",
    "# Input : Number\n",
    "# present : Congrats!!!\n",
    "# Not Present : Try again"
   ]
  },
  {
   "cell_type": "code",
   "execution_count": 168,
   "metadata": {},
   "outputs": [
    {
     "name": "stdout",
     "output_type": "stream",
     "text": [
      "[6, 2, 1, 8, 3]\n",
      "Congrats\n"
     ]
    }
   ],
   "source": [
    "from random import randint as rdint    # Alias name for radint()\n",
    "def generateNumber(n,lb,ub):\n",
    "    li = []\n",
    "    for i in range(0,n):\n",
    "        li.append(rdint(lb,ub))\n",
    "    return li\n",
    "def check(n):\n",
    "    li = generateNumber(5,0,10)\n",
    "    print(li)\n",
    "    if n in li:\n",
    "        print('Congrats')  # if the input is present then output will be congrts\n",
    "    else:\n",
    "        print('Try again') # otherwise try agian message will be displayed\n",
    "    return\n",
    "check(1)"
   ]
  },
  {
   "cell_type": "code",
   "execution_count": 169,
   "metadata": {},
   "outputs": [
    {
     "data": {
      "text/plain": [
       "[1, 4, 1, 9, 7]"
      ]
     },
     "execution_count": 169,
     "metadata": {},
     "output_type": "execute_result"
    }
   ],
   "source": [
    "def generateNumber(n,lb,ub):\n",
    "    li = []\n",
    "    for i in range(0,n):\n",
    "        li.append(rdint(lb,ub))\n",
    "    return li\n",
    "generateNumber(5,0,10)"
   ]
  },
  {
   "cell_type": "code",
   "execution_count": 170,
   "metadata": {},
   "outputs": [],
   "source": [
    "# Draw a line using Turtle Graphics\n",
    "#import the package turtle\n",
    "#All the commands available in this file\n",
    "import turtle\n",
    "# Create a new turtle\n",
    "a1 = turtle.Turtle()\n",
    "# position\n",
    "a1.goto(0,0)\n",
    "# Draw a line\n",
    "a1.forward(250)\n",
    "# done() -- Close the window\n",
    "turtle.done()"
   ]
  },
  {
   "cell_type": "code",
   "execution_count": null,
   "metadata": {},
   "outputs": [],
   "source": [
    "import turtle as tt\n",
    "a1 = tt.Turtle()\n",
    "a1.backward(150)\n",
    "a1.circle(90)\n",
    "a1.forward(150)\n",
    "a1.backward(300)\n",
    "tt.done"
   ]
  },
  {
   "cell_type": "code",
   "execution_count": null,
   "metadata": {},
   "outputs": [],
   "source": [
    "import turtle as tt\n",
    "a1 tt.turtle()\n",
    "a1.backward(150)\n",
    "tt.done"
   ]
  },
  {
   "cell_type": "code",
   "execution_count": null,
   "metadata": {},
   "outputs": [],
   "source": [
    "import turtle as tt\n",
    "a1 = tt.Turtle()\n",
    "a1.forward(150)\n",
    "a1.right(90)\n",
    "a1.forward(150)\n",
    "a1.right(90)\n",
    "a1.forward(150)\n",
    "a1.right(90)\n",
    "a1.forward(150)\n",
    "a1.right(90)\n",
    "tt.done()\n",
    "\n",
    "# generate the Square Using forward and right methods of Turtle Package"
   ]
  },
  {
   "cell_type": "code",
   "execution_count": null,
   "metadata": {},
   "outputs": [],
   "source": [
    "import turtle as t\n",
    "a1 = t.Turtle()\n",
    "for i in range(40):\n",
    "    a1.forward(150)\n",
    "    a1.right(144)\n",
    "tt.done()\n"
   ]
  },
  {
   "cell_type": "code",
   "execution_count": null,
   "metadata": {},
   "outputs": [],
   "source": [
    "import turtle as t\n",
    "a1 = t.Turtle()\n",
    "for i in range(4):\n",
    "    a1.forward(150)\n",
    "    a1.right(90)\n",
    "tt.done"
   ]
  },
  {
   "cell_type": "code",
   "execution_count": null,
   "metadata": {},
   "outputs": [],
   "source": []
  }
 ],
 "metadata": {
  "kernelspec": {
   "display_name": "Python 3",
   "language": "python",
   "name": "python3"
  },
  "language_info": {
   "codemirror_mode": {
    "name": "ipython",
    "version": 3
   },
   "file_extension": ".py",
   "mimetype": "text/x-python",
   "name": "python",
   "nbconvert_exporter": "python",
   "pygments_lexer": "ipython3",
   "version": "3.7.1"
  }
 },
 "nbformat": 4,
 "nbformat_minor": 2
}
