{
 "cells": [
  {
   "cell_type": "markdown",
   "metadata": {},
   "source": [
    "###   Control Statements\n",
    "- conditional Statements of Selection Statements\n",
    "   - if else\n",
    " - Irrational Statements of Loop Statements\n",
    "   - while\n",
    "   - for"
   ]
  },
  {
   "cell_type": "code",
   "execution_count": null,
   "metadata": {},
   "outputs": [],
   "source": [
    "# check the input is leap year or not\n",
    "year = int(input(' '))\n",
    "if (year % 400 == 0 or (year % 100!=0 and year % 4 == 0)):\n",
    "    print(\"Leap Year\")\n",
    "else:\n",
    "    print(\"Not a leap Year\")"
   ]
  },
  {
   "cell_type": "markdown",
   "metadata": {},
   "source": [
    "### While Loop"
   ]
  },
  {
   "cell_type": "code",
   "execution_count": 44,
   "metadata": {},
   "outputs": [
    {
     "name": "stdout",
     "output_type": "stream",
     "text": [
      "Enter a number: 10\n",
      "1 2 3 4 5 6 7 8 9 10 "
     ]
    }
   ],
   "source": [
    "# print numbers from 1 to N\n",
    "# input : 10\n",
    "#Output : 1 2 3 4 ....... 10\n",
    "n= int(input('Enter a number: '))\n",
    "i=1\n",
    "while i <= n:\n",
    "    print(i,end=\" \")\n",
    "    i = i+1"
   ]
  },
  {
   "cell_type": "code",
   "execution_count": 8,
   "metadata": {},
   "outputs": [
    {
     "name": "stdout",
     "output_type": "stream",
     "text": [
      "Enter a number:30\n",
      "2 4 6 8 10 12 14 16 18 20 22 24 26 28 30 "
     ]
    }
   ],
   "source": [
    "# Reed a number as input\n",
    "# output as only even numbers from 1 to N\n",
    "\n",
    "# input : 10\n",
    "# output: 30(2+4+6+8+10)\n",
    "N = int(input('Enter a number:'))\n",
    "i = 1\n",
    "while i <= N:\n",
    "    if i % 2 == 0:\n",
    "        print(i,end=\" \")\n",
    "    i = i+1    "
   ]
  },
  {
   "cell_type": "code",
   "execution_count": 11,
   "metadata": {},
   "outputs": [
    {
     "name": "stdout",
     "output_type": "stream",
     "text": [
      "Enter a number:10\n",
      "30\n"
     ]
    }
   ],
   "source": [
    "# Reed a number as input\n",
    "# output as only even numbers from 1 to N\n",
    "\n",
    "# input : 10\n",
    "# output: 30(2+4+6+8+10)\n",
    "N = int(input('Enter a number:'))\n",
    "i = 1\n",
    "s = 0\n",
    "while i <= N:\n",
    "    if i % 2 == 0:\n",
    "       s = s+i\n",
    "    i = i+1\n",
    "print(s)"
   ]
  },
  {
   "cell_type": "code",
   "execution_count": 14,
   "metadata": {},
   "outputs": [
    {
     "name": "stdout",
     "output_type": "stream",
     "text": [
      " 123\n",
      "3 2 1 "
     ]
    }
   ],
   "source": [
    "# Read the number as ioput\n",
    "# Output has to be digits of the number\n",
    "\n",
    "# input: 123\n",
    "# output: 3 2 1\n",
    "n = int(input(' '))\n",
    "while n != 0:\n",
    "    print(n%10,end=' ')\n",
    "    n = n // 10"
   ]
  },
  {
   "cell_type": "markdown",
   "metadata": {},
   "source": [
    "## Functional Programming\n",
    "- Simple\n",
    "- Easy understand\n",
    "- Better Reuseability\n",
    "- Lenghty Program will be divided into Sub Program"
   ]
  },
  {
   "cell_type": "code",
   "execution_count": null,
   "metadata": {},
   "outputs": [],
   "source": [
    "def nameoftheFunction(<parameters>):\n",
    "    Statements\n",
    "    return"
   ]
  },
  {
   "cell_type": "code",
   "execution_count": 40,
   "metadata": {},
   "outputs": [
    {
     "data": {
      "text/plain": [
       "9"
      ]
     },
     "execution_count": 40,
     "metadata": {},
     "output_type": "execute_result"
    }
   ],
   "source": [
    "# input : 198754\n",
    "# output : 9 (Large digit of the given number)\n",
    "\n",
    "def LargeDigit(n):\n",
    "    #implement the logic\n",
    "    large = 0\n",
    "    while n != 0:\n",
    "        r= n % 10\n",
    "        if large < r:\n",
    "            large = r\n",
    "        n = n // 10\n",
    "    return large\n",
    "LargeDigit(198754)"
   ]
  },
  {
   "cell_type": "code",
   "execution_count": 41,
   "metadata": {},
   "outputs": [
    {
     "name": "stdout",
     "output_type": "stream",
     "text": [
      "Yes\n",
      "No\n"
     ]
    }
   ],
   "source": [
    "# Read as input\n",
    "# output Yes or No\n",
    "\n",
    "# Input : 145\n",
    "# Output: Yes\n",
    "\n",
    "# Input : 123\n",
    "# Output: No\n",
    "\n",
    "# Individual Digit factorial sum is same as input number\n",
    "\n",
    "def factorial(n):\n",
    "    fact = 1\n",
    "    i = 1\n",
    "    while i <= n:             # Find the factorial of the number\n",
    "        fact = fact * i\n",
    "        i = i + 1\n",
    "    return fact\n",
    "\n",
    "def digitFactorialSum(n):\n",
    "    s = 0\n",
    "    buffer = n          # Store the input value in buffer because n will be Zero after the while loop\n",
    "    while n !=0:\n",
    "        r =  n % 10\n",
    "        s += factorial(r)       \n",
    "        n = n // 10\n",
    "    if buffer == s:     # Compare the S with Buffer\n",
    "        return \"Yes\"\n",
    "    else:\n",
    "        return \"No\"\n",
    "    \n",
    "    return\n",
    "print(digitFactorialSum(145)) # Yes\n",
    "print(digitFactorialSum(123))# No"
   ]
  },
  {
   "cell_type": "code",
   "execution_count": 42,
   "metadata": {},
   "outputs": [
    {
     "name": "stdout",
     "output_type": "stream",
     "text": [
      "Palindrome\n",
      "Not a Palindrome\n"
     ]
    }
   ],
   "source": [
    "# Read a numbere as input\n",
    "# output as palindrome or not a palindrome\n",
    "# Palindrome  -- A number after reversind is same as the original number\n",
    "\n",
    "# input : 121\n",
    "# output : Palindrome\n",
    "\n",
    "# input : 123\n",
    "# output : not a palindromr\n",
    "\n",
    "\n",
    "def isPalindrome(n):\n",
    "    rev = 0\n",
    "    buffer = n\n",
    "    while n != 0:\n",
    "        rev = rev * 10 + (n%10)\n",
    "        n = n // 10\n",
    "    if buffer == rev:\n",
    "        return \"Palindrome\"\n",
    "    return \"Not a Palindrome\" \n",
    "print(isPalindrome(121))  # Palindrome\n",
    "print(isPalindrome(123))   # Not a Palindrome"
   ]
  },
  {
   "cell_type": "code",
   "execution_count": 43,
   "metadata": {},
   "outputs": [
    {
     "name": "stdout",
     "output_type": "stream",
     "text": [
      "11 12 13 14 15 16 17 18 19 20 21 22 23 24 25 "
     ]
    }
   ],
   "source": [
    "# Factorial to print the numbersbetween two limits\n",
    "# input : 11 25\n",
    "# output : 11 12 13 14 ........ 25\n",
    "\n",
    "def printSeries(lb,ub):\n",
    "    for x in range (lb,ub+1):\n",
    "        print(x,end=' ')  # Range function will not consider the upper bond so the second parameter will be ub+1\n",
    "    return\n",
    "printSeries(11,25)"
   ]
  },
  {
   "cell_type": "code",
   "execution_count": 53,
   "metadata": {},
   "outputs": [
    {
     "name": "stdout",
     "output_type": "stream",
     "text": [
      "500 502 504 506 508 510 512 514 516 518 520 522 524 526 528 530 "
     ]
    }
   ],
   "source": [
    "# function to print the alternate numbers\n",
    "#[500,530]: 500 502 504 .............. 530\n",
    "#[100,130]: 100 102 104 .............. 130\n",
    "\n",
    "def alternateNumbers(lb,ub):\n",
    "    for x in range(lb,ub+1,2):\n",
    "        print(x,end=' ')\n",
    "    return\n",
    "alternateNumbers(500,530)"
   ]
  },
  {
   "cell_type": "code",
   "execution_count": 54,
   "metadata": {},
   "outputs": [
    {
     "name": "stdout",
     "output_type": "stream",
     "text": [
      "500 502 504 506 508 510 512 514 516 518 520 522 524 526 528 530 "
     ]
    }
   ],
   "source": [
    "# Not Using function to print the alternate numbers\n",
    "#[500,530]: 500 502 504 .............. 530\n",
    "#[100,130]: 100 102 104 .............. 130\n",
    "\n",
    "for x in range(500,532,2):\n",
    "    print(x,end=\" \")"
   ]
  },
  {
   "cell_type": "code",
   "execution_count": null,
   "metadata": {},
   "outputs": [],
   "source": []
  },
  {
   "cell_type": "code",
   "execution_count": null,
   "metadata": {},
   "outputs": [],
   "source": []
  },
  {
   "cell_type": "code",
   "execution_count": null,
   "metadata": {},
   "outputs": [],
   "source": []
  }
 ],
 "metadata": {
  "kernelspec": {
   "display_name": "Python 3",
   "language": "python",
   "name": "python3"
  },
  "language_info": {
   "codemirror_mode": {
    "name": "ipython",
    "version": 3
   },
   "file_extension": ".py",
   "mimetype": "text/x-python",
   "name": "python",
   "nbconvert_exporter": "python",
   "pygments_lexer": "ipython3",
   "version": "3.7.1"
  }
 },
 "nbformat": 4,
 "nbformat_minor": 2
}
