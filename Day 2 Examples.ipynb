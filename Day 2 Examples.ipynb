{
 "cells": [
  {
   "cell_type": "code",
   "execution_count": 1,
   "metadata": {},
   "outputs": [
    {
     "name": "stdout",
     "output_type": "stream",
     "text": [
      "Enter the number: 5\n",
      "1 5 "
     ]
    }
   ],
   "source": [
    "#Problem 1 - Read a number and print the factors\n",
    "inp = int(input(\"Enter the number: \"))\n",
    "for i in range(1, inp+1):\n",
    "    if(inp % i == 0):\n",
    "        print(i,end=' ')"
   ]
  },
  {
   "cell_type": "code",
   "execution_count": 2,
   "metadata": {},
   "outputs": [
    {
     "name": "stdout",
     "output_type": "stream",
     "text": [
      "Enter the number: 2\n",
      "True\n"
     ]
    }
   ],
   "source": [
    "#Problem 2 - Print true if input is prime, false otherwise\n",
    "inp = int(input(\"Enter the number: \"))\n",
    "flag = 0\n",
    "for i in range(2, inp):\n",
    "    if(inp % i == 0):\n",
    "        flag = 1\n",
    "        break\n",
    "if(flag == 0):\n",
    "    print(\"True\")\n",
    "else:\n",
    "    print(\"False\")"
   ]
  },
  {
   "cell_type": "code",
   "execution_count": 3,
   "metadata": {},
   "outputs": [
    {
     "name": "stdout",
     "output_type": "stream",
     "text": [
      "Enter the number: 20\n",
      "8\n"
     ]
    }
   ],
   "source": [
    "#Problem 3 - Print prime numbers between 1 to n\n",
    "def isPrime(num):\n",
    "    for i in range(2, num):\n",
    "        if(num % i == 0):\n",
    "            return False\n",
    "    return True\n",
    "\n",
    "inp = int(input(\"Enter the number: \"))\n",
    "count = 0\n",
    "for i in range(2,inp+1):\n",
    "    if(isPrime(i)):\n",
    "        count = count + 1\n",
    "        \n",
    "print(count)"
   ]
  },
  {
   "cell_type": "code",
   "execution_count": 5,
   "metadata": {},
   "outputs": [
    {
     "name": "stdout",
     "output_type": "stream",
     "text": [
      "Enter Number1: 1\n",
      "Enter Number2: 100\n",
      "18\n"
     ]
    }
   ],
   "source": [
    "#Problem 4 - Print the number of palindromes between two numbers\n",
    "def isPalindrome(num):\n",
    "    rev = 0\n",
    "    n = num\n",
    "    while num > 0:\n",
    "        rev = (rev*10) + (num % 10)\n",
    "        num = num // 10\n",
    "    if(n == rev):\n",
    "        return True\n",
    "    else:\n",
    "        return False\n",
    "    \n",
    "#main function\n",
    "n1 = int(input(\"Enter Number1: \"))\n",
    "n2 = int(input(\"Enter Number2: \"))\n",
    "count = 0\n",
    "for i in range(n1, n2 + 1):\n",
    "    if(isPalindrome(i)):\n",
    "        count = count + 1\n",
    "print(count)"
   ]
  },
  {
   "cell_type": "code",
   "execution_count": 7,
   "metadata": {},
   "outputs": [
    {
     "name": "stdout",
     "output_type": "stream",
     "text": [
      "Enter the number: 888\n",
      "6\n"
     ]
    }
   ],
   "source": [
    "#Problem 5 - Print the count of triangles and circles\n",
    "num = int(input(\"Enter the number: \"))\n",
    "count = 0\n",
    "while num > 0:\n",
    "    temp = num % 10\n",
    "    if((temp == 0) or (temp == 4) or (temp == 6) or (temp == 9)):\n",
    "        count = count + 1\n",
    "    if(temp == 8):\n",
    "        count = count + 2\n",
    "    num = num // 10\n",
    "print(count)"
   ]
  }
 ],
 "metadata": {
  "kernelspec": {
   "display_name": "Python 3",
   "language": "python",
   "name": "python3"
  },
  "language_info": {
   "codemirror_mode": {
    "name": "ipython",
    "version": 3
   },
   "file_extension": ".py",
   "mimetype": "text/x-python",
   "name": "python",
   "nbconvert_exporter": "python",
   "pygments_lexer": "ipython3",
   "version": "3.7.1"
  }
 },
 "nbformat": 4,
 "nbformat_minor": 2
}
