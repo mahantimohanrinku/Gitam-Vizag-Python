{
 "cells": [
  {
   "cell_type": "markdown",
   "metadata": {},
   "source": [
    "### Programming in Python with Strings\n",
    "- Strings\n",
    "- String slicing\n",
    "- Fundamental Programs and Examples with Strings"
   ]
  },
  {
   "cell_type": "markdown",
   "metadata": {},
   "source": [
    "## Strings"
   ]
  },
  {
   "cell_type": "code",
   "execution_count": 3,
   "metadata": {},
   "outputs": [
    {
     "name": "stdout",
     "output_type": "stream",
     "text": [
      "Python\n",
      "Programming\n",
      "<class 'str'>\n",
      "<class 'str'>\n",
      "<class 'str'>\n"
     ]
    }
   ],
   "source": [
    "s1 = 'Python'                  # Both single code and double codes are considered as string type\n",
    "s2 = \"Programming\"      \n",
    "s3 = 'A'                       # Even single character also considred as a string type\n",
    "print(s1)\n",
    "print(s2)\n",
    "print(type(s1))\n",
    "print(type(s2))\n",
    "print(type(s3))"
   ]
  },
  {
   "cell_type": "markdown",
   "metadata": {},
   "source": [
    "### String Slicing"
   ]
  },
  {
   "cell_type": "code",
   "execution_count": 4,
   "metadata": {
    "scrolled": true
   },
   "outputs": [
    {
     "data": {
      "text/plain": [
       "'P'"
      ]
     },
     "execution_count": 4,
     "metadata": {},
     "output_type": "execute_result"
    }
   ],
   "source": [
    "s1= \"Pyhton\"\n",
    "s1[0]# Accessing the first character of a string"
   ]
  },
  {
   "cell_type": "code",
   "execution_count": 8,
   "metadata": {},
   "outputs": [
    {
     "name": "stdout",
     "output_type": "stream",
     "text": [
      "P\n",
      "y\n",
      "6\n",
      "n\n",
      "n\n",
      "o\n"
     ]
    }
   ],
   "source": [
    "s1= \"Python\"\n",
    "print(s1[0])   # sccessing the first character in a string\n",
    "print(s1[1])   #accessing the second character in a string\n",
    "print(len(s1)) #Length of the string\n",
    "print(s1[len(s1)-1])   #Access the last character of the string\n",
    "print(s1[-1])         #Another way to access the last character\n",
    "print(s1[-2])"
   ]
  },
  {
   "cell_type": "code",
   "execution_count": 10,
   "metadata": {},
   "outputs": [
    {
     "name": "stdout",
     "output_type": "stream",
     "text": [
      "Py\n",
      "on\n",
      "hon\n",
      "tho\n",
      "ytho\n"
     ]
    }
   ],
   "source": [
    "print(s1[0:2])# access the first two characters\n",
    "print(s1[-2:])# accesstg the last two charcters\n",
    "print(s1[3:])# access the character from 3 till last\n",
    "print(s1[2:5])# access the character from 2 to 5\n",
    "print(s1[1:-1])# all the characters except 1st and last character"
   ]
  },
  {
   "cell_type": "code",
   "execution_count": 12,
   "metadata": {},
   "outputs": [
    {
     "data": {
      "text/plain": [
       "'nohtyP'"
      ]
     },
     "execution_count": 12,
     "metadata": {},
     "output_type": "execute_result"
    }
   ],
   "source": [
    "s1[-1::-1] # Reverse the String"
   ]
  },
  {
   "cell_type": "code",
   "execution_count": 13,
   "metadata": {},
   "outputs": [
    {
     "data": {
      "text/plain": [
       "'Pto'"
      ]
     },
     "execution_count": 13,
     "metadata": {},
     "output_type": "execute_result"
    }
   ],
   "source": [
    "# Access the characters in string alternate\n",
    "# Python ...... Pto\n",
    "s1[::2]"
   ]
  },
  {
   "cell_type": "code",
   "execution_count": 14,
   "metadata": {},
   "outputs": [
    {
     "data": {
      "text/plain": [
       "'nhy'"
      ]
     },
     "execution_count": 14,
     "metadata": {},
     "output_type": "execute_result"
    }
   ],
   "source": [
    "#Access the alternate characters from reverse direction\n",
    "# Python ... nhy\n",
    "s1[::-2]"
   ]
  },
  {
   "cell_type": "code",
   "execution_count": 15,
   "metadata": {},
   "outputs": [
    {
     "data": {
      "text/plain": [
       "'Ph'"
      ]
     },
     "execution_count": 15,
     "metadata": {},
     "output_type": "execute_result"
    }
   ],
   "source": [
    "s1[::3]"
   ]
  },
  {
   "cell_type": "markdown",
   "metadata": {},
   "source": [
    "### Functions with String Operations"
   ]
  },
  {
   "cell_type": "code",
   "execution_count": 16,
   "metadata": {},
   "outputs": [
    {
     "data": {
      "text/plain": [
       "'nohtyP'"
      ]
     },
     "execution_count": 16,
     "metadata": {},
     "output_type": "execute_result"
    }
   ],
   "source": [
    "# reverse the string\n",
    "def reverseStr(s):\n",
    "    return s[-1::-1]\n",
    "reverseStr('Python')"
   ]
  },
  {
   "cell_type": "code",
   "execution_count": 22,
   "metadata": {},
   "outputs": [
    {
     "name": "stdout",
     "output_type": "stream",
     "text": [
      "False\n",
      "True\n"
     ]
    }
   ],
   "source": [
    "# To check the given string is palindrome or not a palindrome\n",
    "def isPallindrome(s):\n",
    "    if s == s[::-1]:              # we can wrinte [-1::-1] it will gives same answer\n",
    "        return True\n",
    "    return False\n",
    "print(isPallindrome('Python'))\n",
    "print(isPallindrome('ganag'))\n",
    "    "
   ]
  },
  {
   "cell_type": "code",
   "execution_count": 29,
   "metadata": {},
   "outputs": [
    {
     "name": "stdout",
     "output_type": "stream",
     "text": [
      "P T "
     ]
    }
   ],
   "source": [
    "# Function to print Upper case Characters\n",
    "# Example : PyThon - - P T    # We have to remember the ASCII Number System\n",
    "\n",
    "# ASCII\n",
    "# A - Z : 65 - 90\n",
    "# a - z : 97 - 122\n",
    "# 0 - 9 : 48 - 57\n",
    "# space : 32\n",
    "\n",
    "def printUpper(s):\n",
    "    for i in range(len(s)):\n",
    "        if ord(s[i]) >= 65 and ord(s[i]) <= 90:\n",
    "            print(s[i],end=' ')\n",
    "    return\n",
    "printUpper('PyThon') # P T"
   ]
  },
  {
   "cell_type": "code",
   "execution_count": 32,
   "metadata": {},
   "outputs": [
    {
     "data": {
      "text/plain": [
       "65"
      ]
     },
     "execution_count": 32,
     "metadata": {},
     "output_type": "execute_result"
    }
   ],
   "source": [
    "ord('A') # ord() function gives the output the number which is equal to ASCII number"
   ]
  },
  {
   "cell_type": "code",
   "execution_count": 39,
   "metadata": {},
   "outputs": [
    {
     "name": "stdout",
     "output_type": "stream",
     "text": [
      "True\n",
      "False\n"
     ]
    }
   ],
   "source": [
    "# Function to return the output as \"SameCount\" or \"Programming\"\n",
    "# SameCount - - Lower and Upper chars have same count\n",
    "# Programming - - Count of Lower and Upper case is not same\n",
    "\n",
    "# Example 1 : PyThOn -- 3 P T O\n",
    "#                    -- 3 y h n\n",
    "# Output: SameCount\n",
    "# Example 2 : PythoN -- 2 P N\n",
    "#                    -- 4 y t h o\n",
    "# Output: Programming\n",
    "\n",
    "def  sameCount(s):\n",
    "    lower_count = 0\n",
    "    upper_count = 0\n",
    "    for i in range(len(s)):\n",
    "        if(ord(s[i]) >= 65) and (ord(s[i]) <= 90):\n",
    "            upper_count = upper_count + 1\n",
    "        else:\n",
    "            lower_count = lower_count + 1\n",
    "    if(lower_count == upper_count):\n",
    "        return True\n",
    "    else:\n",
    "        return False\n",
    "print(sameCount('PyThOn'))\n",
    "print(sameCount('PythoN'))"
   ]
  },
  {
   "cell_type": "code",
   "execution_count": 47,
   "metadata": {},
   "outputs": [
    {
     "name": "stdout",
     "output_type": "stream",
     "text": [
      "SameCount\n",
      "Programming\n"
     ]
    }
   ],
   "source": [
    "# Function to return the output as \"SameCount\" or \"Programming\"\n",
    "# SameCount - - Lower and Upper chars have same count\n",
    "# Programming - - Count of Lower and Upper case is not same\n",
    "\n",
    "# Example 1 : PyThOn -- 3 P T O\n",
    "#                    -- 3 y h n\n",
    "# Output: SameCount\n",
    "# Example 2 : PythoN -- 2 P N\n",
    "#                    -- 4 y t h o\n",
    "# Output: Programming\n",
    "\n",
    "\n",
    "# Another example\n",
    "\n",
    "\n",
    "\n",
    "def findCharCount(s):\n",
    "    cntUpper = 0\n",
    "    cntLower = 0\n",
    "    for i in range(len(s)):\n",
    "        if ord(s[i]) >= 65 and ord(s[i]) <= 90:\n",
    "            cntUpper += 1             # cntUpper = cntUpper + 1\n",
    "        elif ord(s[i]) >= 97 and ord(s[i]) <= 122:\n",
    "            cntLower += 1            # cntLower = cntLower + 1\n",
    "            \n",
    "    if cntLower == cntUpper:\n",
    "        return \"SameCount\"\n",
    "    return \"Programming\"\n",
    "print(findCharCount('PYThon'))\n",
    "print(findCharCount('PythoN'))"
   ]
  },
  {
   "cell_type": "code",
   "execution_count": 53,
   "metadata": {},
   "outputs": [
    {
     "name": "stdout",
     "output_type": "stream",
     "text": [
      "1 2 5 6 4 7 7 4 8 7 4 "
     ]
    }
   ],
   "source": [
    "# Function to Extract the digits from the String\n",
    "# Example #1:\n",
    "# Input : Appli18cation89\n",
    "# Output: 1 8 8 9\n",
    "\n",
    "\n",
    "def extractDigits(string):\n",
    "    for i in string:\n",
    "        if ((ord(i) >= 48) and (ord(i) <= 57)):\n",
    "            print(i,end=' ')\n",
    "extractDigits(\"12564774874ashASADADFDAshrinku\")\n"
   ]
  },
  {
   "cell_type": "code",
   "execution_count": 66,
   "metadata": {},
   "outputs": [
    {
     "name": "stdout",
     "output_type": "stream",
     "text": [
      "26\n"
     ]
    }
   ],
   "source": [
    "# Function to the odd the digits of the string\n",
    "# Example #1:\n",
    "# Input : Applica18tion89\n",
    "# Output: 26(1+8+8+9)\n",
    "\n",
    "def extractDigits(string):\n",
    "    count = 0\n",
    "    for i in string:\n",
    "        if ((ord(i) >= 48) and (ord(i) <= 57)):\n",
    "            count = count + int(i)\n",
    "    print(count)\n",
    "extractDigits(\"Appilication1889\")"
   ]
  },
  {
   "cell_type": "code",
   "execution_count": 69,
   "metadata": {},
   "outputs": [
    {
     "data": {
      "text/plain": [
       "26"
      ]
     },
     "execution_count": 69,
     "metadata": {},
     "output_type": "execute_result"
    }
   ],
   "source": [
    "# Function to the odd the digits of the string\n",
    "# Example #1:\n",
    "# Input : Applica18tion89\n",
    "# Output: 26(1+8+8+9)\n",
    "\n",
    "# Another way of same example\n",
    "\n",
    "def sumOfDigits(s):\n",
    "    sum = 0\n",
    "    for i in range(len(s)):\n",
    "        if ord(s[i]) >= 48 and ord(s[i]) <= 57:\n",
    "            sum = sum + (ord(s[i])-48)\n",
    "    return sum\n",
    "sumOfDigits('Appilication1889')"
   ]
  },
  {
   "cell_type": "code",
   "execution_count": 72,
   "metadata": {},
   "outputs": [
    {
     "name": "stdout",
     "output_type": "stream",
     "text": [
      "M A D E "
     ]
    }
   ],
   "source": [
    "# Function to 2nd word in Upper case\n",
    "# Example #1:\n",
    "# Input : Pythone Made Easy\n",
    "# Output : MADE\n",
    "\n",
    "# Example #2:\n",
    "# Input : Learn Pyhton Strings\n",
    "# Output : PYTHON\n",
    "\n",
    "def upperCase(s):\n",
    "    cntSpace = 0\n",
    "    for i in range(len(s)):\n",
    "        if ord(s[i]) == 32:\n",
    "            cntSpace += 1\n",
    "        if cntSpace == 1:\n",
    "            if ord(s[i]) >= 65 and ord(s[i]) <= 90:\n",
    "                print(s[i],end=' ')\n",
    "            elif ord(s[i]) >= 97 and ord(s[i]) <= 122:\n",
    "                print(chr(ord(s[i])-32),end=' ')\n",
    "        if cntSpace == 2:\n",
    "            break\n",
    "    return\n",
    "upperCase('Python Made Easy') # MADE"
   ]
  },
  {
   "cell_type": "code",
   "execution_count": 78,
   "metadata": {},
   "outputs": [
    {
     "data": {
      "text/plain": [
       "'MADE'"
      ]
     },
     "execution_count": 78,
     "metadata": {},
     "output_type": "execute_result"
    }
   ],
   "source": [
    "# Function to 2nd word in Upper case\n",
    "# Example #1:\n",
    "# Input : Pythone Made Easy\n",
    "# Output : MADE\n",
    "\n",
    "# Example #2:\n",
    "# Input : Learn Pyhton Strings\n",
    "# Output : PYTHON\n",
    "\n",
    "\n",
    "# Another way to solve same problem\n",
    "\n",
    "def upperCase(string):\n",
    "    list1 = string.split(' ')  # Output of a  string.split('') is a list.\n",
    "    temp = list1[1]\n",
    "    return temp.upper()\n",
    "\n",
    "upperCase('Python Made Easy')"
   ]
  },
  {
   "cell_type": "markdown",
   "metadata": {},
   "source": [
    "### List\n",
    "- One of the Data Structure in Python\n",
    "- Data Structure means to store, start and Search options\n",
    "- It's one common Data Structure in Python, the items of List separated by comma and enclosed in        square brackets []\n",
    "   - Examle\n",
    "      - list1 = [1,2,3,4,5]\n",
    "      - list2 = [\"Gitam\",1.2,1.89,\"Vizag]"
   ]
  },
  {
   "cell_type": "code",
   "execution_count": 81,
   "metadata": {},
   "outputs": [
    {
     "name": "stdout",
     "output_type": "stream",
     "text": [
      "[1, 8, 9, 16, 9]\n",
      "1\n",
      "8\n",
      "9\n",
      "16\n",
      "[9, 16, 9]\n"
     ]
    }
   ],
   "source": [
    "li = [1,8,9,16,9]\n",
    "print(li)     # Will print the all the list items\n",
    "print(li[0])  # Access the first item of the List\n",
    "print(li[1])  # Access the Second item of the List\n",
    "print(li[-1]) # Access the last item of the List\n",
    "print(li[-2]) # Access the last second item of the List\n",
    "print(li[2:])"
   ]
  },
  {
   "cell_type": "code",
   "execution_count": 84,
   "metadata": {},
   "outputs": [
    {
     "name": "stdout",
     "output_type": "stream",
     "text": [
      "['Gitam', 1582, 2019, 'vizag']\n",
      "['Gitam', 1234, 2019, 'vizag']\n"
     ]
    }
   ],
   "source": [
    "li = [\"Gitam\", 1582,2019, \"vizag\"]\n",
    "print(li)\n",
    "    # Update the List item with using inde\n",
    "li[1] = 1234\n",
    "print(li)"
   ]
  },
  {
   "cell_type": "code",
   "execution_count": 85,
   "metadata": {},
   "outputs": [
    {
     "name": "stdout",
     "output_type": "stream",
     "text": [
      "['Gitam', 1234, 2019]\n"
     ]
    }
   ],
   "source": [
    "# Delete the list item from the List\n",
    "del li[3]\n",
    "\n",
    "print(li)"
   ]
  },
  {
   "cell_type": "code",
   "execution_count": 87,
   "metadata": {},
   "outputs": [
    {
     "name": "stdout",
     "output_type": "stream",
     "text": [
      "5\n",
      "[1, 2, 3, 4, 5, 1, 2, 3, 4, 5]\n",
      "True\n",
      "1 2 3 4 5 \n",
      "1 2 3 4 5 "
     ]
    }
   ],
   "source": [
    "# Basic List Operations\n",
    "li = [1,2,3,4,5]\n",
    "# length of the List\n",
    "print(len(li))\n",
    "# List Reapitation\n",
    "print(li * 2)\n",
    "# To know certain items is present in the list or not\n",
    "print(4 in li)\n",
    "# Access the List items from the Iterations\n",
    "# First way to define\n",
    "for i in range(len(li)):\n",
    "    print(li[i],end=' ')\n",
    "print()\n",
    "# Second way to print the list items\n",
    "for i in li:\n",
    "    print(i,end=' ')"
   ]
  },
  {
   "cell_type": "code",
   "execution_count": 89,
   "metadata": {},
   "outputs": [
    {
     "name": "stdout",
     "output_type": "stream",
     "text": [
      "25\n",
      "1\n",
      "56\n",
      "11\n"
     ]
    }
   ],
   "source": [
    "# Basic List Functions\n",
    "li= [1,9,16,25,5]\n",
    "print(max(li))             # Max number of the List\n",
    "print(min(li))             # Min number of the List\n",
    "print(sum(li))             # Sum of the all List items\n",
    "print(sum(li)//len(li))    # Avg of the list items"
   ]
  },
  {
   "cell_type": "code",
   "execution_count": 13,
   "metadata": {},
   "outputs": [
    {
     "data": {
      "text/plain": [
       "2"
      ]
     },
     "execution_count": 13,
     "metadata": {},
     "output_type": "execute_result"
    }
   ],
   "source": [
    "# Methods of List Options\n",
    "li = [1,9,16,25,5]\n",
    " \n",
    "li.append(29) # Add the new itmes at the end of the list   # li.append\n",
    "li.insert(2,56) # Add the new list item at the specific index # li.insert\n",
    "li.append(9)\n",
    "li.count(9) # Return the value how many object repeated\n",
    "li.index(56) # Return the value at that index\n",
    "\n"
   ]
  },
  {
   "cell_type": "code",
   "execution_count": 27,
   "metadata": {},
   "outputs": [
    {
     "data": {
      "text/plain": [
       "[1, 9, 16]"
      ]
     },
     "execution_count": 27,
     "metadata": {},
     "output_type": "execute_result"
    }
   ],
   "source": [
    "# Method of list objects\n",
    "li = [1,9,16,25,5]\n",
    "li.sort() # Sorts list in the ascending order\n",
    "li.pop() # Last index value\n",
    "li.pop(1) # Removes the item from the specific index\n",
    "li"
   ]
  },
  {
   "cell_type": "code",
   "execution_count": 38,
   "metadata": {},
   "outputs": [
    {
     "data": {
      "text/plain": [
       "[1, 1, 5, 5, 9, 9, 16, 16, 25, 25]"
      ]
     },
     "execution_count": 38,
     "metadata": {},
     "output_type": "execute_result"
    }
   ],
   "source": [
    "li = [1,9,16,25,5]\n",
    "li.extend(li)\n",
    "li.reverse()\n",
    "li.sort()\n",
    "li"
   ]
  },
  {
   "cell_type": "code",
   "execution_count": 31,
   "metadata": {},
   "outputs": [
    {
     "name": "stdout",
     "output_type": "stream",
     "text": [
      "45\n",
      "22\n"
     ]
    }
   ],
   "source": [
    "# Function to return the large number from the intput of the list\n",
    "def largeNumber(li):\n",
    "    li.sort()\n",
    "    return li[-1]\n",
    "def genericLarge(li,n):\n",
    "    li.sort()\n",
    "    return li[-n]\n",
    "li=[19,1,25,6,9,45,22]\n",
    "print(largeNumber(li))\n",
    "print(genericLarge(li,3))"
   ]
  },
  {
   "cell_type": "code",
   "execution_count": 42,
   "metadata": {},
   "outputs": [
    {
     "name": "stdout",
     "output_type": "stream",
     "text": [
      "1\n",
      "19\n"
     ]
    }
   ],
   "source": [
    "# Function to find Least and Generic number from the list\n",
    "def leastNumber(li):\n",
    "    li.sort()\n",
    "    return li[0]\n",
    "def genericLeastNumber(li,n):\n",
    "    li.sort()\n",
    "    return li[n-1]\n",
    "li = [19,1,25,6,9,45,22]\n",
    "print(leastNumber(li))\n",
    "print(genericLeastNumber(li,4))"
   ]
  },
  {
   "cell_type": "markdown",
   "metadata": {},
   "source": [
    "### File Handling in Python\n",
    "- File - Document which contians some information and resides on permanent devices\n",
    "- Different types of File -- , txt., pdf., doc., ppf and etc..\n",
    "- Input- Keyword\n",
    "- Output- File system"
   ]
  },
  {
   "cell_type": "code",
   "execution_count": 59,
   "metadata": {},
   "outputs": [
    {
     "name": "stdout",
     "output_type": "stream",
     "text": [
      "File is Successfully created and Data has inserted\n"
     ]
    }
   ],
   "source": [
    "# Function to create File and Write some data to the file\n",
    "# Mode -- w(It creates the file and write to the same data)\n",
    "#         if the file already exists with some name then it will rewrite the data\n",
    "def createFile(filename):\n",
    "    f = open(filename,'w')\n",
    "    for i in range(10):\n",
    "        f.write('This is %d Line \\n' % i)\n",
    "    print('File is Successfully created and Data has inserted')\n",
    "    return       \n",
    "\n",
    "createFile('data.txt')"
   ]
  },
  {
   "cell_type": "code",
   "execution_count": null,
   "metadata": {},
   "outputs": [],
   "source": [
    "To open the above link we have to type pwd"
   ]
  },
  {
   "cell_type": "code",
   "execution_count": 57,
   "metadata": {},
   "outputs": [
    {
     "name": "stdout",
     "output_type": "stream",
     "text": [
      "Completed Successfuly\n"
     ]
    }
   ],
   "source": [
    "def createFile(filename):\n",
    "    f = open(filename,'w')\n",
    "    f.write('Gitam vizag Python Training')\n",
    "    print('Completed Successfuly')\n",
    "    return\n",
    "createFile('data.txt')"
   ]
  },
  {
   "cell_type": "code",
   "execution_count": 61,
   "metadata": {},
   "outputs": [
    {
     "name": "stdout",
     "output_type": "stream",
     "text": [
      "Program Completed succesfully\n"
     ]
    }
   ],
   "source": [
    " # Mode -- a(If the file is not available it creates the file)\n",
    " #      -- If the file is already present with smae name\n",
    " #      -- append the data at end of the previous line\n",
    " \n",
    "def appendMode(filename):\n",
    "    f= open(filename,'a')\n",
    "    f.write('Gitam Vizag\\n')\n",
    "    f.write('Python Programming\\n')\n",
    "    print('Program Completed succesfully')\n",
    "    return\n",
    "appendMode('data.txt')"
   ]
  },
  {
   "cell_type": "code",
   "execution_count": 64,
   "metadata": {},
   "outputs": [
    {
     "name": "stdout",
     "output_type": "stream",
     "text": [
      "This is 0 Line \n",
      "This is 1 Line \n",
      "This is 2 Line \n",
      "This is 3 Line \n",
      "This is 4 Line \n",
      "This is 5 Line \n",
      "This is 6 Line \n",
      "This is 7 Line \n",
      "This is 8 Line \n",
      "This is 9 Line \n",
      "Gitam Vizag\n",
      "Python Programming\n",
      "Gitam Vizag\n",
      "Python Programming\n",
      "\n"
     ]
    }
   ],
   "source": [
    "# Function to read the file\n",
    "def readFileData(filename):\n",
    "    f = open(filename,'r')\n",
    "    if f.mode == 'r':\n",
    "        a = f.read()\n",
    "        print(a)\n",
    "    f.close()\n",
    "    return\n",
    "readFileData('data.txt')"
   ]
  },
  {
   "cell_type": "code",
   "execution_count": 65,
   "metadata": {},
   "outputs": [
    {
     "name": "stdout",
     "output_type": "stream",
     "text": [
      "['Pyhton', 'Programming']\n"
     ]
    }
   ],
   "source": [
    "# Analysis on the file -- Word count, char count, Digit count\n",
    "s1 = 'Pyhton Programming'\n",
    "print(s1.split())"
   ]
  },
  {
   "cell_type": "code",
   "execution_count": 67,
   "metadata": {},
   "outputs": [
    {
     "data": {
      "text/plain": [
       "48"
      ]
     },
     "execution_count": 67,
     "metadata": {},
     "output_type": "execute_result"
    }
   ],
   "source": [
    "#Word Count-- Input file                             \n",
    "def wordCount(filename):\n",
    "    with open(filename,'r') as f: \n",
    "        if f.mode == 'r':\n",
    "            a = f.read()\n",
    "            li = a.split()\n",
    "    return len(li)\n",
    "wordCount('data.txt')"
   ]
  },
  {
   "cell_type": "code",
   "execution_count": 75,
   "metadata": {},
   "outputs": [
    {
     "data": {
      "text/plain": [
       "10"
      ]
     },
     "execution_count": 75,
     "metadata": {},
     "output_type": "execute_result"
    }
   ],
   "source": [
    "# Specific word count from the file\n",
    "# Example#1 \n",
    "# Input -- This \n",
    "# Output -- 10\n",
    "\n",
    "# Example#2\n",
    "# Input -- Gitam\n",
    "# Output -- 1\n",
    "\n",
    "def specificWordCount(filename,word):\n",
    "    f = open(filename,'r')\n",
    "    a = f.read()\n",
    "    list1 = a.split()\n",
    "    return list1.count(word)\n",
    "specificWordCount('data.txt','This')"
   ]
  },
  {
   "cell_type": "code",
   "execution_count": 84,
   "metadata": {},
   "outputs": [
    {
     "data": {
      "text/plain": [
       "222"
      ]
     },
     "execution_count": 84,
     "metadata": {},
     "output_type": "execute_result"
    }
   ],
   "source": [
    "# Function to find the character count from the Input file\n",
    "def charCount(filename):\n",
    "    with open(filename,'r') as f:\n",
    "        if f.mode == 'r':\n",
    "            a = f.read()  # Convert the input String into Sequences of characters and finding the len of list become as char count of the input file\n",
    "            li = list(a)\n",
    "    return len(li)\n",
    "charCount('data.txt')"
   ]
  },
  {
   "cell_type": "code",
   "execution_count": 76,
   "metadata": {},
   "outputs": [
    {
     "name": "stdout",
     "output_type": "stream",
     "text": [
      "['P', 'y', 'h', 't', 'o', 'n', 'P', 'r', 'o', 'g', 'r', 'a', 'm', 'm', 'i', 'n', 'g']\n"
     ]
    }
   ],
   "source": [
    "s = \"PyhtonProgramming\"\n",
    "li = list(s)\n",
    "print(li)"
   ]
  },
  {
   "cell_type": "code",
   "execution_count": 97,
   "metadata": {},
   "outputs": [
    {
     "data": {
      "text/plain": [
       "15"
      ]
     },
     "execution_count": 97,
     "metadata": {},
     "output_type": "execute_result"
    }
   ],
   "source": [
    "# Find no of lines or rows in the given input stream\n",
    "def findLineCount(filename):\n",
    "    with open(filename,'r') as f:\n",
    "         if f.mode == 'r':\n",
    "            a = f.read()\n",
    "            li = a.split('\\n')\n",
    "    return len(li)\n",
    "findLineCount('data.txt')"
   ]
  },
  {
   "cell_type": "code",
   "execution_count": 108,
   "metadata": {},
   "outputs": [
    {
     "data": {
      "text/plain": [
       "'Upper Case: 28 Lower case : 126 Digit : 10'"
      ]
     },
     "execution_count": 108,
     "metadata": {},
     "output_type": "execute_result"
    }
   ],
   "source": [
    "# Function to find the upper and Lower case characters\n",
    "# from the input stream\n",
    "def caseCount(filename):\n",
    "    cntUpper = 0\n",
    "    cntLower = 0\n",
    "    cntDigit = 0\n",
    "    with open(filename,'r') as f:\n",
    "        if f.mode == 'r':\n",
    "            a = f.read()\n",
    "            li = list(a)\n",
    "    for i in range(len(li)):\n",
    "        if ord(li[i]) >= 65 and ord(li[i]) <= 90:\n",
    "            cntUpper +=1\n",
    "        elif ord(li[i]) >= 97 and ord(li[i]) <= 122:\n",
    "            cntLower += 1\n",
    "        elif ord(li[i]) >= 48 and ord(li[i]) <= 57:\n",
    "            cntDigit +=1\n",
    "    output = 'Upper Case: {0} Lower case : {1} Digit : {2}'.format(cntUpper,cntLower,cntDigit)\n",
    "    return output\n",
    "caseCount('data.txt')"
   ]
  },
  {
   "cell_type": "code",
   "execution_count": null,
   "metadata": {},
   "outputs": [],
   "source": []
  }
 ],
 "metadata": {
  "kernelspec": {
   "display_name": "Python 3",
   "language": "python",
   "name": "python3"
  },
  "language_info": {
   "codemirror_mode": {
    "name": "ipython",
    "version": 3
   },
   "file_extension": ".py",
   "mimetype": "text/x-python",
   "name": "python",
   "nbconvert_exporter": "python",
   "pygments_lexer": "ipython3",
   "version": "3.7.1"
  }
 },
 "nbformat": 4,
 "nbformat_minor": 2
}
